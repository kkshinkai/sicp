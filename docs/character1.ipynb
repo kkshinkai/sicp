{
 "cells": [
  {
   "cell_type": "markdown",
   "source": [
    "# Character 1. Building Abstractions with Procedures\n",
    "\n",
    "> The acts of the mind, wherein it exerts its power over simple ideas, are\n",
    "> chiefly these three:\n",
    "> 1.  Combining several simple ideas into one compound one, and thus all complex\n",
    ">     ideas are made.\n",
    "> 2.  The second is bringing two ideas, whether simple or complex, together, and\n",
    ">     setting them by one another so as to take a view of them at once, without\n",
    ">     uniting them into one, by which it gets all its ideas of relations.\n",
    "> 3.  The third is separating them from all other ideas that accompany them in\n",
    ">     their real existence: this is called abstraction, and thus all its general\n",
    ">     ideas are made."
   ],
   "metadata": {}
  },
  {
   "cell_type": "markdown",
   "source": [
    "## 1.1. The Elements of Programming\n",
    "\n",
    "Every powerful language has three basic mechanisms:\n",
    "\n",
    "-   **Primitive expressions**, which represent the simplest entities the\n",
    "    language is concerned with.\n",
    "-   **Means of combination**, by which compound elements are built from simpler\n",
    "    ones.\n",
    "-   **Means of abstraction**,by which compound element scanbe named and \n",
    "    manipulated as units.\n",
    "\n",
    "TODO"
   ],
   "metadata": {}
  },
  {
   "cell_type": "markdown",
   "source": [],
   "metadata": {}
  }
 ],
 "metadata": {
  "orig_nbformat": 4,
  "language_info": {
   "name": "python",
   "version": "3.9.6"
  },
  "kernelspec": {
   "name": "python3",
   "display_name": "Python 3.9.6 64-bit"
  },
  "interpreter": {
   "hash": "aee8b7b246df8f9039afb4144a1f6fd8d2ca17a180786b69acc140d282b71a49"
  }
 },
 "nbformat": 4,
 "nbformat_minor": 2
}